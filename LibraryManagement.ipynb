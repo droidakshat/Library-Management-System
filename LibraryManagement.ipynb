{
 "cells": [
  {
   "cell_type": "code",
   "execution_count": 2,
   "metadata": {},
   "outputs": [
    {
     "name": "stdout",
     "output_type": "stream",
     "text": [
      "2.6.0\n"
     ]
    },
    {
     "name": "stderr",
     "output_type": "stream",
     "text": [
      "C:\\Users\\Akshat\\AppData\\Local\\Temp\\ipykernel_21064\\4112040650.py:2: DeprecationWarning: version is deprecated and will be removed in Python 3.14\n",
      "  print(sqlite3.version)\n"
     ]
    }
   ],
   "source": [
    "import sqlite3\n",
    "print(sqlite3.version)"
   ]
  },
  {
   "cell_type": "code",
   "execution_count": 3,
   "metadata": {},
   "outputs": [],
   "source": [
    "def get_connection():\n",
    "    return sqlite3.connect(\"library.db\")\n"
   ]
  },
  {
   "cell_type": "code",
   "execution_count": 4,
   "metadata": {},
   "outputs": [],
   "source": [
    "def create_tables():\n",
    "    conn = get_connection()\n",
    "    cur = conn.cursor()\n",
    "\n",
    "    cur.execute(\"\"\"\n",
    "        CREATE TABLE IF NOT EXISTS books (\n",
    "            id INTEGER PRIMARY KEY AUTOINCREMENT,\n",
    "            title TEXT NOT NULL,\n",
    "            author TEXT NOT NULL,\n",
    "            isbn TEXT UNIQUE NOT NULL,\n",
    "             available INTEGER DEFAULT 1\n",
    "        )\n",
    "    \"\"\")\n",
    "\n",
    "    cur.execute(\"\"\"\n",
    "        CREATE TABLE IF NOT EXISTS borrowers (\n",
    "            id INTEGER PRIMARY KEY AUTOINCREMENT,\n",
    "            name TEXT NOT NULL,\n",
    "            email TEXT UNIQUE NOT NULL,\n",
    "            phone TEXT\n",
    "        )\n",
    "    \"\"\")\n",
    "\n",
    "    conn.commit()\n",
    "    conn.close()\n"
   ]
  },
  {
   "cell_type": "code",
   "execution_count": 5,
   "metadata": {},
   "outputs": [],
   "source": [
    "def add_book(title, author, isbn):\n",
    "    try:\n",
    "        conn = get_connection()\n",
    "        cur = conn.cursor()\n",
    "        cur.execute(\"INSERT INTO books (title, author, isbn) VALUES (?, ?, ?)\",\n",
    "                    (title, author, isbn))\n",
    "        conn.commit()\n",
    "    except sqlite3.IntegrityError as e:\n",
    "        print(f\"Error: {e}\")\n",
    "    finally:\n",
    "        conn.close()\n",
    "\n",
    "def add_borrower(name, email, phone):\n",
    "    try:\n",
    "        conn = get_connection()\n",
    "        cur = conn.cursor()\n",
    "        cur.execute(\"INSERT INTO borrowers (name, email, phone) VALUES (?, ?, ?)\",\n",
    "                    (name, email, phone))\n",
    "        conn.commit()\n",
    "    except sqlite3.IntegrityError as e:\n",
    "        print(f\"Error: {e}\")\n",
    "    finally:\n",
    "        conn.close()"
   ]
  },
  {
   "cell_type": "code",
   "execution_count": null,
   "metadata": {},
   "outputs": [],
   "source": []
  }
 ],
 "metadata": {
  "kernelspec": {
   "display_name": "Python 3",
   "language": "python",
   "name": "python3"
  },
  "language_info": {
   "codemirror_mode": {
    "name": "ipython",
    "version": 3
   },
   "file_extension": ".py",
   "mimetype": "text/x-python",
   "name": "python",
   "nbconvert_exporter": "python",
   "pygments_lexer": "ipython3",
   "version": "3.13.7"
  },
  "orig_nbformat": 4
 },
 "nbformat": 4,
 "nbformat_minor": 2
}
