{
 "cells": [
  {
   "cell_type": "code",
   "execution_count": 2,
   "metadata": {},
   "outputs": [
    {
     "name": "stdout",
     "output_type": "stream",
     "text": [
      "2.6.0\n"
     ]
    },
    {
     "name": "stderr",
     "output_type": "stream",
     "text": [
      "C:\\Users\\Akshat\\AppData\\Local\\Temp\\ipykernel_21064\\4112040650.py:2: DeprecationWarning: version is deprecated and will be removed in Python 3.14\n",
      "  print(sqlite3.version)\n"
     ]
    }
   ],
   "source": [
    "import sqlite3\n",
    "print(sqlite3.version)"
   ]
  },
  {
   "cell_type": "code",
   "execution_count": 3,
   "metadata": {},
   "outputs": [],
   "source": [
    "def get_connection():\n",
    "    return sqlite3.connect(\"library.db\")\n"
   ]
  },
  {
   "cell_type": "code",
   "execution_count": 4,
   "metadata": {},
   "outputs": [],
   "source": [
    "def create_tables():\n",
    "    conn = get_connection()\n",
    "    cur = conn.cursor()\n",
    "\n",
    "    cur.execute(\"\"\"\n",
    "        CREATE TABLE IF NOT EXISTS books (\n",
    "            id INTEGER PRIMARY KEY AUTOINCREMENT,\n",
    "            title TEXT NOT NULL,\n",
    "            author TEXT NOT NULL,\n",
    "            isbn TEXT UNIQUE NOT NULL,\n",
    "             available INTEGER DEFAULT 1\n",
    "        )\n",
    "    \"\"\")\n",
    "\n",
    "    cur.execute(\"\"\"\n",
    "        CREATE TABLE IF NOT EXISTS borrowers (\n",
    "            id INTEGER PRIMARY KEY AUTOINCREMENT,\n",
    "            name TEXT NOT NULL,\n",
    "            email TEXT UNIQUE NOT NULL,\n",
    "            phone TEXT\n",
    "        )\n",
    "    \"\"\")\n",
    "\n",
    "    conn.commit()\n",
    "    conn.close()\n"
   ]
  },
  {
   "cell_type": "code",
   "execution_count": 5,
   "metadata": {},
   "outputs": [],
   "source": [
    "def add_book(title, author, isbn):\n",
    "    try:\n",
    "        conn = get_connection()\n",
    "        cur = conn.cursor()\n",
    "        cur.execute(\"INSERT INTO books (title, author, isbn) VALUES (?, ?, ?)\",\n",
    "                    (title, author, isbn))\n",
    "        conn.commit()\n",
    "    except sqlite3.IntegrityError as e:\n",
    "        print(f\"Error: {e}\")\n",
    "    finally:\n",
    "        conn.close()\n",
    "\n",
    "def add_borrower(name, email, phone):\n",
    "    try:\n",
    "        conn = get_connection()\n",
    "        cur = conn.cursor()\n",
    "        cur.execute(\"INSERT INTO borrowers (name, email, phone) VALUES (?, ?, ?)\",\n",
    "                    (name, email, phone))\n",
    "        conn.commit()\n",
    "    except sqlite3.IntegrityError as e:\n",
    "        print(f\"Error: {e}\")\n",
    "    finally:\n",
    "        conn.close()"
   ]
  },
  {
   "cell_type": "code",
   "execution_count": 6,
   "metadata": {},
   "outputs": [],
   "source": [
    "def show_available_books():\n",
    "    conn = get_connection()\n",
    "    cur = conn.cursor()\n",
    "    cur.execute(\"SELECT id, title, author, isbn FROM books WHERE available=1\")\n",
    "    books = cur.fetchall()\n",
    "    conn.close()\n",
    "\n",
    "    print(\"\\nAvailable Books:\")\n",
    "    for b in books:\n",
    "        print(f\"{b[0]} | {b[1]} by {b[2]} (ISBN: {b[3]})\")\n",
    "\n",
    "def show_borrowers():\n",
    "    conn = get_connection()\n",
    "    cur = conn.cursor()\n",
    "    cur.execute(\"SELECT id, name, email, phone FROM borrowers\")\n",
    "    borrowers = cur.fetchall()\n",
    "    conn.close()\n",
    "\n",
    "    print(\"\\nBorrowers:\")\n",
    "    for br in borrowers:\n",
    "        print(f\"{br[0]} | {br[1]} | {br[2]} | {br[3]}\")\n",
    "\n",
    "def search_books(keyword):\n",
    "    conn = get_connection()\n",
    "    cur = conn.cursor()\n",
    "    cur.execute(\"SELECT id, title, author, isbn FROM books WHERE title LIKE ? OR author LIKE ?\",\n",
    "                (f\"%{keyword}%\", f\"%{keyword}%\"))\n",
    "    results = cur.fetchall()\n",
    "    conn.close()\n",
    "\n",
    "    print(f\"\\nSearch Results for '{keyword}':\")\n",
    "    for r in results:\n",
    "        print(f\"{r[0]} | {r[1]} by {r[2]} (ISBN: {r[3]})\")\n"
   ]
  },
  {
   "cell_type": "code",
   "execution_count": 7,
   "metadata": {},
   "outputs": [],
   "source": [
    "def insert_sample_data():\n",
    "    conn = get_connection()\n",
    "    cur = conn.cursor()\n",
    "    \n",
    "    # Delete all data from the tables\n",
    "    cur.execute(\"DELETE FROM books\")\n",
    "    cur.execute(\"DELETE FROM borrowers\")\n",
    "    conn.commit()\n",
    "\n",
    "    sample_books = [\n",
    "        (\"The Alchemist\", \"Paulo Coelho\", \"9780061122415\"),\n",
    "        (\"To Kill a Mockingbird\", \"Harper Lee\", \"9780060935467\"),\n",
    "        (\"1984\", \"George Orwell\", \"9780451524935\"),\n",
    "        (\"Pride and Prejudice\", \"Jane Austen\", \"9780141439518\"),\n",
    "        (\"The Great Gatsby\", \"F. Scott Fitzgerald\", \"9780743273565\"),\n",
    "    ]\n",
    "\n",
    "    sample_borrowers = [\n",
    "        (\"Alice Johnson\", \"alice@example.com\", \"1234567890\"),\n",
    "        (\"Bob Smith\", \"bob@example.com\", \"9876543210\"),\n",
    "        (\"Charlie Brown\", \"charlie@example.com\", \"5556667777\"),\n",
    "    ]\n",
    "\n",
    "    for book in sample_books:\n",
    "        add_book(*book)\n",
    "\n",
    "    for borrower in sample_borrowers:\n",
    "        add_borrower(*borrower)\n",
    "        \n",
    "    conn.close()"
   ]
  },
  {
   "cell_type": "code",
   "execution_count": 8,
   "metadata": {},
   "outputs": [
    {
     "name": "stdout",
     "output_type": "stream",
     "text": [
      "\n",
      "Available Books:\n",
      "1 | The Alchemist by Paulo Coelho (ISBN: 9780061122415)\n",
      "2 | To Kill a Mockingbird by Harper Lee (ISBN: 9780060935467)\n",
      "3 | 1984 by George Orwell (ISBN: 9780451524935)\n",
      "4 | Pride and Prejudice by Jane Austen (ISBN: 9780141439518)\n",
      "5 | The Great Gatsby by F. Scott Fitzgerald (ISBN: 9780743273565)\n",
      "\n",
      "Borrowers:\n",
      "1 | Alice Johnson | alice@example.com | 1234567890\n",
      "2 | Bob Smith | bob@example.com | 9876543210\n",
      "3 | Charlie Brown | charlie@example.com | 5556667777\n",
      "\n",
      "Search Results for 'George':\n",
      "3 | 1984 by George Orwell (ISBN: 9780451524935)\n"
     ]
    }
   ],
   "source": [
    "create_tables()\n",
    "insert_sample_data()\n",
    "\n",
    "show_available_books()\n",
    "show_borrowers()\n",
    "search_books(\"George\")\n"
   ]
  },
  {
   "cell_type": "code",
   "execution_count": null,
   "metadata": {},
   "outputs": [],
   "source": []
  }
 ],
 "metadata": {
  "kernelspec": {
   "display_name": "Python 3",
   "language": "python",
   "name": "python3"
  },
  "language_info": {
   "codemirror_mode": {
    "name": "ipython",
    "version": 3
   },
   "file_extension": ".py",
   "mimetype": "text/x-python",
   "name": "python",
   "nbconvert_exporter": "python",
   "pygments_lexer": "ipython3",
   "version": "3.13.7"
  },
  "orig_nbformat": 4
 },
 "nbformat": 4,
 "nbformat_minor": 2
}
